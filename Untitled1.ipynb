{
  "nbformat": 4,
  "nbformat_minor": 0,
  "metadata": {
    "colab": {
      "provenance": []
    },
    "kernelspec": {
      "name": "python3",
      "display_name": "Python 3"
    },
    "language_info": {
      "name": "python"
    }
  },
  "cells": [
    {
      "cell_type": "markdown",
      "source": [
        " # assignment\n",
        " 1 What is computer ? Explain briefly.\n",
        " - Computers are the electronic devices"
      ],
      "metadata": {
        "id": "xCeiREwIotce"
      }
    },
    {
      "cell_type": "code",
      "execution_count": null,
      "metadata": {
        "id": "qKWGsllDoqux"
      },
      "outputs": [],
      "source": [
        "#include<stdio.h>\n",
        "#include<conio.h>\n"
      ]
    },
    {
      "cell_type": "markdown",
      "source": [
        "2 What are the parts of computer?\n",
        "- Parts of computer are..."
      ],
      "metadata": {
        "id": "WnTNES4MpTL3"
      }
    }
  ]
}